{
 "cells": [
  {
   "cell_type": "code",
   "execution_count": 32,
   "metadata": {},
   "outputs": [
    {
     "name": "stderr",
     "output_type": "stream",
     "text": [
      "/home/floris/miniforge3/envs/env_tst/lib/python3.9/site-packages/plotnine/ggplot.py:587: PlotnineWarning: Saving 6.4 x 4.8 in image.\n",
      "/home/floris/miniforge3/envs/env_tst/lib/python3.9/site-packages/plotnine/ggplot.py:588: PlotnineWarning: Filename: time50000_enx_c20_qinf_r1_.png\n"
     ]
    }
   ],
   "source": [
    "import matplotlib\n",
    "\n",
    "# matplotlib.use(\"TkAgg\")\n",
    "\n",
    "\n",
    "import pandas as pd\n",
    "from plotnine import *\n",
    "import matplotlib.pyplot as plt\n",
    "\n",
    "fn = \"time50000_enx_c20_qinf_r1_\"\n",
    "df = pd.read_csv(\"../../\" + fn + \".csv\", sep=\";\")\n",
    "df = df.rename(columns={\"t\": \"x\", \"Enexis performance.x\": \"y\"})\n",
    "\n",
    "# Create the plot\n",
    "plot = (\n",
    "    ggplot(df, aes(x=\"x\", y=\"y\"))\n",
    "    + geom_line(color=\"#DF0073\")\n",
    "    + xlab(\"time [hrs]\")\n",
    "    + ylab(\"power [kW]\")\n",
    "    + ggtitle(\"c10, qinf, r1\")\n",
    ")\n",
    "\n",
    "# Display the plot\n",
    "plot.draw()\n",
    "plot.save(fn + \".png\")\n",
    "plt.show()"
   ]
  },
  {
   "cell_type": "code",
   "execution_count": 8,
   "metadata": {},
   "outputs": [],
   "source": [
    "from plotnine import ggplot, geom_point, aes, stat_smooth, facet_wrap\n",
    "from plotnine.data import mtcars\n",
    "\n",
    "plot =(ggplot(mtcars, aes(\"wt\", \"mpg\", color=\"factor(gear)\"))\n",
    " + geom_point()\n",
    " + stat_smooth(method=\"lm\")\n",
    " + facet_wrap(\"~gear\"))\n",
    "\n",
    "# Display the plot\n",
    "plot.draw()\n",
    "plt.show()"
   ]
  }
 ],
 "metadata": {
  "kernelspec": {
   "display_name": "env_tst",
   "language": "python",
   "name": "python3"
  },
  "language_info": {
   "codemirror_mode": {
    "name": "ipython",
    "version": 3
   },
   "file_extension": ".py",
   "mimetype": "text/x-python",
   "name": "python",
   "nbconvert_exporter": "python",
   "pygments_lexer": "ipython3",
   "version": "3.9.18"
  }
 },
 "nbformat": 4,
 "nbformat_minor": 2
}
